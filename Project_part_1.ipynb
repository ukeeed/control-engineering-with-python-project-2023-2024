{
  "cells": [
    {
      "cell_type": "markdown",
      "metadata": {
        "id": "e0wMCtR3EzlG",
        "tags": []
      },
      "source": [
        "# Self-Balancing Scooter Control\n",
        "\n",
        "![](images/self-balancing-scooter.png)\n",
        "\n",
        "> A self-balancing scooter [...] is a self-balancing personal transporter consisting of two motorized wheels connected to a pair of articulated pads on which the rider places their feet. The rider controls the speed by leaning forward or backward, and direction of travel by twisting the pads.\n",
        ">\n",
        "> Source: <https://en.wikipedia.org/wiki/Self-balancing_scooter>"
      ]
    },
    {
      "cell_type": "markdown",
      "metadata": {
        "id": "AqMnUaTREzlI"
      },
      "source": [
        "### Python Dependencies"
      ]
    },
    {
      "cell_type": "code",
      "execution_count": 43,
      "metadata": {
        "id": "zM6krvBnEzlJ"
      },
      "outputs": [],
      "source": [
        "#useless comment\n",
        "from numpy import *\n",
        "from numpy.linalg import *\n",
        "\n",
        "from scipy.linalg import *\n",
        "from scipy.integrate import *\n",
        "from scipy.signal import *\n",
        "\n",
        "from matplotlib.pyplot import *"
      ]
    },
    {
      "cell_type": "markdown",
      "metadata": {
        "id": "jgog0AqDEzlK",
        "tags": []
      },
      "source": [
        "Step 1 - Scooter Planar Model\n",
        "================================"
      ]
    },
    {
      "cell_type": "markdown",
      "metadata": {
        "id": "8H4WDUtCEzlK",
        "tags": []
      },
      "source": [
        "### Introduction"
      ]
    },
    {
      "cell_type": "markdown",
      "metadata": {
        "id": "Bj-fyC8PEzlK",
        "tags": []
      },
      "source": [
        "We consider a simple model of a self-balancing scooter evolving in the plane. It is mainly made of\n",
        "\n",
        "  - The frame that contains the two articulated pads; from above, each pad essentially look like a triangle (one vertice in the center of the frame, one vertice at each extremity of the wheel).\n",
        "\n",
        "  - Two fixed wheels (their orientation with respect to the frame does not change).\n",
        "    They are parallel and located at opposite ends of the frame.\n",
        "    \n",
        "Let $(0, e_x, e_y)$ be a direct orthonormal frame of the plane. We denote\n",
        "\n",
        "  - $(x, y)$ the coordinates of the wheel axis center in the orthonormal and\n",
        "  - $\\theta$ the angle of the wheels direction with respect to vector $e_x$ ; with $\\theta = 0$ when the front of the scooter faces the right ($e_x$) and $\\theta = \\pi/2$ when it faces upwards ($e_y$).\n",
        "\n",
        "  - $\\phi_l$ and $\\phi_r$ the rotation angles of the left and right wheel respectively ; by convention, when these angles increase, the scooter moves forward."
      ]
    },
    {
      "cell_type": "markdown",
      "metadata": {
        "id": "Gg2AlYeSEzlK",
        "tags": []
      },
      "source": [
        "### Parameter Definition"
      ]
    },
    {
      "cell_type": "markdown",
      "metadata": {
        "id": "NLKgtFC2EzlK",
        "tags": []
      },
      "source": [
        "From now on, we assume that the seat frame length is $\\ell = 50 \\mbox{ cm}$ and the wheel radius is $r = 12.5 \\mbox{ cm}$.\n",
        "\n",
        "🧩 Define the corresponding Python variables `l` and `r` (express every length in meters, and more generally in the sequel, always use the [international standard of units](https://en.wikipedia.org/wiki/SI_derived_unit)) for numerical values."
      ]
    },
    {
      "cell_type": "code",
      "execution_count": 44,
      "metadata": {
        "id": "Of95zvGOEzlK"
      },
      "outputs": [],
      "source": [
        "# Define the seat frame length (l) in meters\n",
        "l = 50 / 100  # converting cm to m\n",
        "\n",
        "# Define the wheel radius (r) in meters\n",
        "r = 12.5 / 100  # converting cm to m\n",
        "# Define the seat frame length (l) in meters\n",
        "\n",
        "\n"
      ]
    },
    {
      "cell_type": "markdown",
      "metadata": {
        "id": "TwZDGc-fEzlL"
      },
      "source": [
        "### Graphical Representation\n",
        "\n",
        "🧩 Implement a function `draw_scooter` with arguments `x`, `y` and `theta` that draws a simple geometric model of the wheelchair (with a red frame and black fixed wheels) in the plane (top view) for arbitrary values of $(x, y)$ and $\\theta$. Use a green circle marker 50 cm in of the frame to indicate which way is forward.\n",
        "\n",
        "🗝️ **Hint.** Use the function `plot` of `matplotlib.pyplot`."
      ]
    },
    {
      "cell_type": "code",
      "execution_count": 45,
      "metadata": {
        "id": "D99V_zlrEzlL"
      },
      "outputs": [],
      "source": [
        "def draw_scooter(x,y,theta):\n",
        "  theta = theta - pi/2\n",
        "  translation = array([[x], [y]])\n",
        "  rotation = array([[cos(theta),-sin(theta)],\n",
        "                   [sin(theta),cos(theta)]])\n",
        "  t1 = array([[0, l/2, l/2, 0], [0, r, -r, 0]])\n",
        "  t2 = array([[0, -l/2, -l/2, 0], [0, r, -r, 0]])\n",
        "  fill(dot(rotation,t1)[0] + translation[0], dot(rotation,t1)[1] + translation[1], 'r', alpha=1)\n",
        "  fill(dot(rotation,t2)[0] + translation[0], dot(rotation,t2)[1] + translation[1], 'r', alpha=1)\n",
        "  r1 = array([[l/2, l/2], [r, -r]])\n",
        "  plot(dot(rotation, r1)[0] + translation[0], dot(rotation, r1)[1] + translation[1], color='black', linestyle='-', linewidth=4)\n",
        "  r2 = array([[-l/2, -l/2], [r, -r]])\n",
        "  plot(dot(rotation, r2)[0] + translation[0], dot(rotation, r2)[1] + translation[1], color='black', linestyle='-', linewidth=4)\n",
        "  scatter(dot(rotation, array([[0], [0.5]]))[0] + translation[0], dot(rotation, array([[0], [0.5]]))[1] + translation[1], s=40, color='green')\n",
        "\n"
      ]
    },
    {
      "cell_type": "markdown",
      "metadata": {
        "id": "C0lCwG3rEzlL"
      },
      "source": [
        "🧩 Represent the wheelchair when $(x, y, \\theta) = (0, 0, 0), (2, 2, \\pi/2), (0, 4, \\pi), (-2, 2, 3\\pi/2)$.\n",
        "\n",
        "🗝️ **Hint.** Use the following `draw_arena` function beforehand."
      ]
    },
    {
      "cell_type": "code",
      "execution_count": 46,
      "metadata": {
        "id": "W-KB4dKiEzlL"
      },
      "outputs": [],
      "source": [
        "def draw_arena(xmin, xmax, ymin, ymax):\n",
        "    wh_ratio = (xmax - xmin) / (ymax - ymin)\n",
        "    figsize = fig_width, fig_height = 16, 16 / wh_ratio\n",
        "    figure(figsize=figsize)\n",
        "    axes = gca()\n",
        "    axes.axis([xmin, xmax, ymin, ymax])\n",
        "    axes.set_aspect(1)\n",
        "    xticks(arange(xmin, xmax+1, 1))\n",
        "    yticks(arange(ymin, ymax+1, 1))\n",
        "    grid(True)"
      ]
    },
    {
      "cell_type": "code",
      "execution_count": 47,
      "metadata": {
        "colab": {
          "base_uri": "https://localhost:8080/",
          "height": 805
        },
        "id": "5v5vjRbhEzlL",
        "outputId": "4b4bfcea-ab1b-4cb7-b633-d0a3444caf85"
      },
      "outputs": [
        {
          "data": {
            "image/png": "[encoded data removed]",
            "text/plain": [
              "<Figure size 1600x960 with 1 Axes>"
            ]
          },
          "metadata": {},
          "output_type": "display_data"
        }
      ],
      "source": [
        "draw_arena(-5, 5, -1, 5)\n",
        "draw_scooter(0, 0, 0)\n",
        "draw_scooter(2, 2, pi/2)\n",
        "draw_scooter(0, 4, pi)\n",
        "draw_scooter(-2, 2, 3*pi/2)"
      ]
    },
    {
      "cell_type": "markdown",
      "metadata": {
        "id": "dYMXbZhKEzlL"
      },
      "source": [
        "### Kinematic Modeling\n",
        "\n",
        "We assume that we can control the wheels angular velocities $\\omega_l = \\dot{\\phi}_l$ and $\\omega_r = \\dot{\\phi}_r$ (this is a *kinematic* model of the wheelchair).\n",
        "We also assume that the wheelchair fixed wheels roll without slipping.\n",
        "\n",
        "🧩 Establish the differential equations that relate $\\dot{x}$,\n",
        "$\\dot{y}$ and $\\dot{\\theta}$ with $\\omega_l$ and $\\omega_r$."
      ]
    },
    {
      "cell_type": "markdown",
      "metadata": {
        "id": "L8HagKNcEzlM"
      },
      "source": [
        "The velocities of the left and right wheels can be expressed as `v_l = R * ωl` and `v_r = R * ωr` .\n",
        "\n",
        "The linear velocity `v` of the scooter (which is also the velocity of the center of the wheel axis) can be obtained by averaging the velocities of the two wheels:\n",
        "\n",
        "$$ v = \\frac{v_l + v_r}{2} = \\frac{R * ωl + R * ωr}{2} = R * \\frac{ωl + ωr}{2} $$\n",
        "\n",
        "The angular velocity `ω` of the scooter (rate of change of the direction of the scooter) can be obtained by the difference in velocities of the two wheels divided by the distance between the wheels:\n",
        "\n",
        "$$ ω = \\frac{v_r - v_l}{L} = \\frac{R * ωr - R * ωl}{L} = R * \\frac{ωr - ωl}{L} $$\n",
        "\n",
        "The direction `θ` of the scooter changes at a rate equal to the angular velocity `ω`, so we have:\n",
        "\n",
        "$$ θ˙ = ω $$\n",
        "\n",
        "The velocity of the scooter in the x and y directions (`x˙` and `y˙`) can be obtained by decomposing the linear velocity `v` along the `ex` and `ey` directions:\n",
        "\n",
        "$$ x˙ = v * cos(θ) = R * \\frac{ωl + ωr}{2} * cos(θ) $$\n",
        "\n",
        "$$ y˙ = v * sin(θ) = R * \\frac{ωl + ωr}{2} * sin(θ) $$\n",
        "\n",
        "So, the differential equations that relate `x˙`, `y˙` and `θ˙` with `ωl` and `ωr` are:\n",
        "\n",
        "$$ x˙ = R * \\frac{ωl + ωr}{2} * cos(θ) $$\n",
        "\n",
        "$$ y˙ = R * \\frac{ωl + ωr}{2} * sin(θ) $$\n",
        "\n",
        "$$ θ˙ = R * \\frac{ωr - ωl}{L} $$\n"
      ]
    },
    {
      "cell_type": "markdown",
      "metadata": {
        "id": "SU8oqyMLEzlM"
      },
      "source": [
        "### Analysis\n",
        "\n",
        "🧩 Show that if $\\omega_l$ and $\\omega_r$ are continuously differentiable functions of $(x, y, \\theta)$ (which includes the case of constant inputs), this system is well-posed."
      ]
    },
    {
      "cell_type": "markdown",
      "metadata": {
        "id": "OaqHLeZqEzlM"
      },
      "source": [
        "A system of differential equations is considered \"well-posed\" if it meets three criteria:\n",
        "\n",
        "1. **Existence:** A solution exists for every starting condition.\n",
        "2. **Uniqueness:** Each starting condition has only one solution.\n",
        "3. **Stability:** The solution changes smoothly based on the starting conditions.\n",
        "\n",
        "If we look at our system of differential equations, where `ωl` and `ωr` are functions of `(x, y, θ)` that can change smoothly:\n",
        "\n",
        "1. **Existence:** Since `ωl` and `ωr` can change smoothly, they are also continuous. The right side of each equation is made up of continuous functions (like addition, multiplication, division, cosine, sine), so it's also continuous. This means a solution exists for every starting condition.\n",
        "\n",
        "2. **Uniqueness:** The right side of each equation is not just continuous, but Lipschitz continuous (because its derivative with respect to `(x, y, θ)` exists and is continuous). This means the solution is unique for every starting condition.\n",
        "\n",
        "3. **Stability:** The stability of the solution depends on the specific forms of `ωl` and `ωr`. But if `ωl` and `ωr` can change smoothly, we can expect that small changes in the starting conditions will lead to small changes in the solution, at least for some time after the start. This is a type of stability known as Lyapunov stability.\n",
        "\n",
        "So, if `ωl` and `ωr` can change smoothly based on `(x, y, θ)`, the system of differential equations is well-posed.\n",
        "\n"
      ]
    },
    {
      "cell_type": "markdown",
      "metadata": {
        "id": "cZuz9yduEzlM"
      },
      "source": [
        "🧩 Show that if $\\omega_l$ and $\\omega_r$ are constants, the maximal solution associated to any initial state is global. Is is still true of $\\omega_l$ and $\\omega_r$ are arbitrary continuously differentiable functions of $(x, y, \\theta)$ ?"
      ]
    },
    {
      "cell_type": "markdown",
      "metadata": {
        "id": "G-jYIHAzEzlM"
      },
      "source": [
        "1. **Case of constant $\\omega_l$ and $\\omega_r$:**\n",
        "\n",
        "   If $\\omega_l$ and $\\omega_r$ are constants, then the system of differential equations becomes a system of linear differential equations. The solutions to such systems are well-known to be global under very general conditions. In this case, the scooter will move along a straight line or a circle indefinitely, so the solution is indeed global.\n",
        "\n",
        "2. **Case of continuously differentiable $\\omega_l$ and $\\omega_r$:**\n",
        "\n",
        "   If $\\omega_l$ and $\\omega_r$ are continuously differentiable functions of $(x, y, \\theta)$, the situation is more complex. The system of differential equations is now nonlinear, and the existence of global solutions is not guaranteed in general.\n",
        "\n",
        "   However, if the functions $\\omega_l$ and $\\omega_r$ are bounded (which is a reasonable assumption in practice, since the angular velocities of the wheels cannot be arbitrarily large), then the right-hand side of each differential equation is Lipschitz continuous. This means that the solution will not blow up in finite time, and hence the solution is global.\n",
        "\n",
        "   In summary, if $\\omega_l$ and $\\omega_r$ are constants, the maximal solution associated to any initial state is global. If $\\omega_l$ and $\\omega_r$ are arbitrary continuously differentiable (and bounded) functions of $(x, y, \\theta)$, the maximal solution is also global. However, if $\\omega_l$ and $\\omega_r$ are not bounded, the solution may not be global."
      ]
    },
    {
      "cell_type": "markdown",
      "metadata": {
        "id": "AjEfOQUPEzlM"
      },
      "source": [
        "### Vector Field\n",
        "\n",
        "In the sequel, `omega` is a function that computes the input vector $\\omega := (\\omega_l, \\omega_r)$ given the time $t$ and $(x, y, \\theta)$ (thus, it may depend on the time and/or on the system state if needed). For example:"
      ]
    },
    {
      "cell_type": "code",
      "execution_count": 48,
      "metadata": {
        "id": "PhkZvlXSEzlM"
      },
      "outputs": [],
      "source": [
        "def omega(t, xytheta):\n",
        "    omega_l = (1 - l/4) * pi / r\n",
        "    omega_r = (1 + l/4) * pi / r\n",
        "    return array([omega_l, omega_r])"
      ]
    },
    {
      "cell_type": "markdown",
      "metadata": {
        "id": "llBNvY56EzlN"
      },
      "source": [
        "🧩 Implement a function `fun(t, xytheta)` that computes $(\\dot{x}, \\dot{y}, \\dot{\\theta})$ given the time $t$ and $(x,y,\\theta)$ (and implicitly the inputs $\\omega$ computed by the function `omega`)."
      ]
    },
    {
      "cell_type": "code",
      "execution_count": 49,
      "metadata": {
        "id": "6gbgiO3uEzlN"
      },
      "outputs": [],
      "source": [
        "def fun(t, xytheta):\n",
        "    x, y, theta = xytheta\n",
        "    omega_l, omega_r = omega(t, xytheta)\n",
        "    dx = r * 0.5 * (omega_l + omega_r) * cos(theta)\n",
        "    dy = r * 0.5 * (omega_l + omega_r) * sin(theta)\n",
        "    dtheta = r * (omega_r - omega_l) / l\n",
        "    return array([dx, dy, dtheta])"
      ]
    },
    {
      "cell_type": "markdown",
      "metadata": {
        "id": "qF10tTtQEzlN"
      },
      "source": [
        "### Simulation Setup\n",
        "\n",
        "🧩 Simulate the wheelchair dynamics for 4 seconds when $(x_0, y_0, \\theta_0)(t=0) = (0.0, 0.0, 0.0)$,\n",
        "and the wheels velocities are the constants $\\omega_l = (1 - \\ell/4)  \\pi / r \\mbox{ rad/s}$ and $\\omega_r = (1 + \\ell/4)  \\pi / r \\mbox{ rad/s}$.\n",
        "(Compute the dense outputs.)\n",
        "   "
      ]
    },
    {
      "cell_type": "code",
      "execution_count": 50,
      "metadata": {
        "id": "JHUEFGVwEzlN"
      },
      "outputs": [],
      "source": [
        "pass "
      ]
    },
    {
      "cell_type": "markdown",
      "metadata": {
        "id": "_Mmy1V9vEzlN"
      },
      "source": [
        "🧩 Use the simulation results to draw the graphs of $x(t)$, $y(t)$ and $\\theta(t)$."
      ]
    },
    {
      "cell_type": "code",
      "execution_count": null,
      "metadata": {
        "colab": {
          "base_uri": "https://localhost:8080/",
          "height": 1000
        },
        "id": "PTbhOAfBEzlN",
        "outputId": "2fd59fea-b2a7-45cb-9b20-de81aecc6ea1"
      },
      "outputs": [],
      "source": [
        "pass "
      ]
    },
    {
      "cell_type": "markdown",
      "metadata": {
        "id": "yBc92L5BEzlN"
      },
      "source": [
        "🧩 Use the simulation results to display the robot location every 0.5 second."
      ]
    },
    {
      "cell_type": "code",
      "execution_count": null,
      "metadata": {
        "colab": {
          "base_uri": "https://localhost:8080/",
          "height": 805
        },
        "id": "ZshC8Of2EzlN",
        "outputId": "28ca7a16-bffc-4abe-8733-ba14996228ed"
      },
      "outputs": [],
      "source": [
        "pass "
      ]
    },
    {
      "cell_type": "markdown",
      "metadata": {
        "id": "-dUOaJcWEzlN"
      },
      "source": [
        "🧩 What should be the analytical expression of $x(t)$, $y(t)$ and $\\theta(t)$?"
      ]
    },
    {
      "cell_type": "markdown",
      "metadata": {
        "id": "u3Qfe3GkEzlO"
      },
      "source": [
        "🧩 Do you experimental results match the theoretical results ? Draw the curves of the simulation error at time $t$ for $x$, $y$ and $\\theta$."
      ]
    },
    {
      "cell_type": "code",
      "execution_count": null,
      "metadata": {
        "colab": {
          "base_uri": "https://localhost:8080/",
          "height": 1000
        },
        "id": "V3P-9yoEEzlO",
        "outputId": "072d5ef2-37d0-4baa-a9d8-4d73b0ba4770"
      },
      "outputs": [],
      "source": [
        "pass "
      ]
    },
    {
      "cell_type": "markdown",
      "metadata": {
        "id": "Q7uVy_CHEzlO"
      },
      "source": [
        "🧩 If needed, adjust the simulation parameters the simulated position error is less than $1\\, \\mathrm{ mm}$."
      ]
    },
    {
      "cell_type": "code",
      "execution_count": null,
      "metadata": {
        "colab": {
          "base_uri": "https://localhost:8080/",
          "height": 1000
        },
        "id": "24oBYXl8EzlO",
        "outputId": "04a432a2-e5be-4373-f3c2-4564dc25b2d5"
      },
      "outputs": [],
      "source": [
        "pass "
      ]
    }
  ],
  "metadata": {
    "colab": {
      "provenance": []
    },
    "kernelspec": {
      "display_name": "Python 3 (ipykernel)",
      "language": "python",
      "name": "python3"
    },
    "language_info": {
      "codemirror_mode": {
        "name": "ipython",
        "version": 3
      },
      "file_extension": ".py",
      "mimetype": "text/x-python",
      "name": "python",
      "nbconvert_exporter": "python",
      "pygments_lexer": "ipython3",
      "version": "3.11.5"
    }
  },
  "nbformat": 4,
  "nbformat_minor": 0
}
